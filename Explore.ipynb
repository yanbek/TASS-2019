{
 "cells": [
  {
   "cell_type": "markdown",
   "metadata": {},
   "source": [
    "## Load needed things"
   ]
  },
  {
   "cell_type": "markdown",
   "metadata": {},
   "source": [
    "### Import packages"
   ]
  },
  {
   "cell_type": "code",
   "execution_count": 242,
   "metadata": {},
   "outputs": [],
   "source": [
    "import numpy as np\n",
    "import nltk\n",
    "import pandas as pd\n",
    "import xml.etree.ElementTree as ET\n",
    "from collections import namedtuple\n",
    "from os import listdir\n",
    "from os.path import isfile, join\n",
    "import re\n",
    "import string\n",
    "from typing import Callable, List\n",
    "from spellchecker import SpellChecker\n",
    "import urllib.request\n",
    "import json\n",
    "from tqdm import tqdm\n",
    "import spacy\n",
    "import ftfy\n",
    "from collections import Counter\n",
    "from sklearn.naive_bayes import MultinomialNB\n",
    "from sklearn import preprocessing\n",
    "from sklearn.ensemble import ExtraTreesClassifier, RandomForestClassifier, BaggingClassifier\n",
    "from sklearn.model_selection import KFold\n",
    "from polyglot.text import Text\n",
    "from mtranslate import translate\n",
    "from sklearn.linear_model import LogisticRegression\n",
    "from sklearn.pipeline import Pipeline\n",
    "from sklearn.feature_extraction.text import TfidfTransformer, TfidfVectorizer, CountVectorizer\n",
    "from sklearn.pipeline import FeatureUnion\n",
    "from sklearn.base import BaseEstimator, TransformerMixin\n",
    "from sklearn import metrics\n",
    "from sklearn.utils.multiclass import unique_labels\n",
    "import matplotlib.pyplot as plt\n",
    "from sklearn.model_selection import GridSearchCV\n",
    "from sklearn.svm import LinearSVC\n",
    "from sklearn.feature_selection import mutual_info_classif\n",
    "\n",
    "%matplotlib inline\n",
    "tqdm.pandas()"
   ]
  },
  {
   "cell_type": "markdown",
   "metadata": {
    "heading_collapsed": true
   },
   "source": [
    "### Define needed variables"
   ]
  },
  {
   "cell_type": "code",
   "execution_count": null,
   "metadata": {
    "hidden": true
   },
   "outputs": [],
   "source": [
    "tweet = namedtuple('Tweet', ['tweetid', 'content', 'polarity'])\n",
    "stopWords = set(nltk.corpus.stopwords.words('spanish'))\n",
    "nlp = spacy.load('es')\n",
    "spell = SpellChecker(language='es')"
   ]
  },
  {
   "cell_type": "markdown",
   "metadata": {},
   "source": [
    "## Preprocessing"
   ]
  },
  {
   "cell_type": "markdown",
   "metadata": {
    "heading_collapsed": true
   },
   "source": [
    "### Read data"
   ]
  },
  {
   "cell_type": "code",
   "execution_count": null,
   "metadata": {
    "hidden": true,
    "scrolled": true
   },
   "outputs": [],
   "source": [
    "def read_data(file: str) -> pd.DataFrame:\n",
    "    \"\"\"Read data from given file and return it as a dataframe.\"\"\"\n",
    "    tweets: List = []\n",
    "    with open(file, 'r') as f:\n",
    "        tree = ET.parse(file)\n",
    "        root = tree.getroot()\n",
    "        for child in root:\n",
    "            tweets.append(tweet(child[0].text, child[2].text, child[5][0][0].text))\n",
    "    return pd.DataFrame(tweets)\n",
    "\n",
    "def read_folder(folder: str) -> pd.DataFrame:\n",
    "    \"\"\"\n",
    "    Read data from given folder, combines the training and dev set\n",
    "    and return them combined as a dataframe.\n",
    "    \"\"\"\n",
    "    dataframes = []\n",
    "    files = [f for f in listdir(folder) if isfile(join(folder, f))]\n",
    "    for file in files:\n",
    "        if 'xml' in file:\n",
    "            dataframes.append(read_data(folder + file))\n",
    "    return pd.concat(dataframes)"
   ]
  },
  {
   "cell_type": "markdown",
   "metadata": {
    "heading_collapsed": true
   },
   "source": [
    "### String manipulation\n",
    "\n",
    "Don't need to care for emoticons, because there are less than 10."
   ]
  },
  {
   "cell_type": "code",
   "execution_count": null,
   "metadata": {
    "hidden": true
   },
   "outputs": [],
   "source": [
    "def remove_mention(tweet: str) -> str:\n",
    "    return re.sub(r'@[A-Za-z0-9]+', '', tweet)\n",
    "\n",
    "def lower_case(tweet: str) -> str:\n",
    "    \"\"\"Turn a tweet to lower case.\"\"\"\n",
    "    return tweet.lower()\n",
    "\n",
    "def remove_question_mark(tweet: str) -> str:\n",
    "    \"\"\"Remove spanish question mark from a tweet.\"\"\"\n",
    "    return tweet.replace('¿', '')\n",
    "\n",
    "def remove_punctuation(tweet: str) -> str:\n",
    "    \"\"\"Remove punctuation from a tweet.\"\"\"\n",
    "    return tweet.translate(str.maketrans('', '', string.punctuation))\n",
    "\n",
    "def remove_whitespace(tweet: str) -> str:\n",
    "    return tweet.strip()\n",
    "\n",
    "def check_int(s):\n",
    "    if s[0] in ('-', '+'):\n",
    "        return s[1:].isdigit()\n",
    "    return s.isdigit()\n",
    "\n",
    "def remove_numbers(tweet: str) -> str:\n",
    "    \"\"\"Remove numbers from tweet.\"\"\"\n",
    "    tokenized = nltk.word_tokenize(tweet)\n",
    "    return ' '.join([word for word in tokenized if not check_int(word)])\n",
    "\n",
    "def fix_encoding(tweet: str) -> str:\n",
    "    return ftfy.fix_encoding(tweet)\n",
    "\n",
    "def fix_repeated_letters(tweet: str) -> str:\n",
    "    \"\"\"Replace repeated characters (3 repetitions or more) with only two characters.\"\"\"\n",
    "    return re.sub(r'(.)\\1+', r'\\1\\1', tweet)\n",
    "\n",
    "def fix_spelling(tweet: str) -> str:\n",
    "    \"\"\"Fix spelling error in tweets.\"\"\"\n",
    "    tokenized = nltk.word_tokenize(tweet)\n",
    "    misspelled = spell.unknown(tokenized)\n",
    "    for i in range(len(tokenized)):\n",
    "        if tokenized[i] in misspelled:\n",
    "            tokenized[i] = spell.correction(tokenized[i])\n",
    "    return ' '.join(tokenized)\n",
    "\n",
    "def clean_tweet(tweet: str) -> str:\n",
    "    \"\"\"Run a tweet through cleaning pipeline.\"\"\"\n",
    "    # List of function\n",
    "    functions: List[Callable] = [\n",
    "                 remove_mention,\n",
    "                 lower_case,\n",
    "                 remove_question_mark,\n",
    "                 remove_punctuation,\n",
    "                 remove_numbers,\n",
    "                 remove_whitespace,\n",
    "                 fix_repeated_letters,\n",
    "                 fix_encoding,\n",
    "                 fix_spelling\n",
    "                 ]\n",
    "    for f in functions:\n",
    "        tweet = f(tweet)\n",
    "        \n",
    "    return tweet"
   ]
  },
  {
   "cell_type": "markdown",
   "metadata": {
    "heading_collapsed": true
   },
   "source": [
    "### Spelling\n",
    "Preprocessing that should be done after spell correction."
   ]
  },
  {
   "cell_type": "code",
   "execution_count": null,
   "metadata": {
    "hidden": true
   },
   "outputs": [],
   "source": [
    "def remove_stopwords(tweet: str) -> str:\n",
    "    \"\"\"Remove stopwords from tweet.\"\"\"\n",
    "    tokenized = nltk.word_tokenize(tweet)\n",
    "    return ' '.join([word for word in tokenized if word not in stopWords])\n",
    "\n",
    "def stem_tweet(tweet: str) -> str:\n",
    "    tweet = nlp(tweet)\n",
    "    return ' '.join([token.lemma_ for token in tweet])\n",
    "\n",
    "\n",
    "def clean_tweet2(tweet: str) -> str:\n",
    "    \"\"\"Run a tweet through cleaning pipeline.\"\"\"\n",
    "    # List of function\n",
    "    functions: List[Callable] = [\n",
    "                 remove_stopwords,\n",
    "                 stem_tweet\n",
    "                 ]\n",
    "    for f in functions:\n",
    "        tweet = f(tweet)\n",
    "        \n",
    "    return tweet"
   ]
  },
  {
   "cell_type": "code",
   "execution_count": null,
   "metadata": {
    "hidden": true
   },
   "outputs": [],
   "source": [
    "def augment_data(df):\n",
    "    new_trans = 2\n",
    "    new_df = df.copy()\n",
    "    new_df['augmented'] = 0\n",
    "    for index, row in tqdm(new_df.iterrows()):\n",
    "        trans_en = translate(translate(row['content'], 'en', 'es'), 'es', 'en')\n",
    "\n",
    "        new_row_en = {'tweetid': row['tweetid'],\n",
    "                      'content': trans_en,\n",
    "                      'polarity': row['polarity'],\n",
    "                      'augmented': 1}\n",
    "\n",
    "        new_df = new_df.append(new_row_en, ignore_index=True)\n",
    "    return new_df"
   ]
  },
  {
   "cell_type": "markdown",
   "metadata": {},
   "source": [
    "### Clean and save"
   ]
  },
  {
   "cell_type": "code",
   "execution_count": null,
   "metadata": {
    "scrolled": true
   },
   "outputs": [],
   "source": [
    "df = read_data(\"data/cr/intertass_cr_train.xml\")\n",
    "df['content'] = df['content'].progress_apply(clean_tweet)\n",
    "df.to_csv(\"data/cr/cleaned.csv\", index=False)"
   ]
  },
  {
   "cell_type": "code",
   "execution_count": null,
   "metadata": {},
   "outputs": [],
   "source": [
    "df = pd.read_csv(\"data/cr/cleaned.csv\")\n",
    "df = augment_data(df)\n",
    "df.to_csv(\"data/cr/cleaned_augmented.csv\", index=False)"
   ]
  },
  {
   "cell_type": "code",
   "execution_count": 227,
   "metadata": {
    "scrolled": true
   },
   "outputs": [
    {
     "name": "stderr",
     "output_type": "stream",
     "text": [
      "\n",
      "  0%|          | 0/1554 [00:00<?, ?it/s]\u001b[A\n",
      "  1%|          | 18/1554 [00:00<00:08, 175.50it/s]\u001b[A\n",
      "  2%|▏         | 36/1554 [00:00<00:08, 176.30it/s]\u001b[A\n",
      "  3%|▎         | 54/1554 [00:00<00:08, 177.17it/s]\u001b[A\n",
      "  5%|▍         | 73/1554 [00:00<00:08, 178.63it/s]\u001b[A\n",
      "  6%|▌         | 92/1554 [00:00<00:08, 178.99it/s]\u001b[A\n",
      "  7%|▋         | 110/1554 [00:00<00:08, 178.67it/s]\u001b[A\n",
      "  8%|▊         | 129/1554 [00:00<00:07, 180.21it/s]\u001b[A\n",
      " 10%|▉         | 148/1554 [00:00<00:07, 180.37it/s]\u001b[A\n",
      " 11%|█         | 167/1554 [00:00<00:07, 180.68it/s]\u001b[A\n",
      " 12%|█▏        | 186/1554 [00:01<00:07, 180.82it/s]\u001b[A\n",
      " 13%|█▎        | 204/1554 [00:01<00:07, 178.67it/s]\u001b[A\n",
      " 14%|█▍        | 222/1554 [00:01<00:07, 177.68it/s]\u001b[A\n",
      " 15%|█▌        | 240/1554 [00:01<00:07, 176.66it/s]\u001b[A\n",
      " 17%|█▋        | 258/1554 [00:01<00:07, 176.73it/s]\u001b[A\n",
      " 18%|█▊        | 277/1554 [00:01<00:07, 178.32it/s]\u001b[A\n",
      " 19%|█▉        | 296/1554 [00:01<00:06, 179.83it/s]\u001b[A\n",
      " 20%|██        | 315/1554 [00:01<00:06, 182.28it/s]\u001b[A\n",
      " 21%|██▏       | 334/1554 [00:01<00:06, 181.12it/s]\u001b[A\n",
      " 23%|██▎       | 353/1554 [00:01<00:06, 180.77it/s]\u001b[A\n",
      " 24%|██▍       | 372/1554 [00:02<00:06, 180.68it/s]\u001b[A\n",
      " 25%|██▌       | 391/1554 [00:02<00:06, 181.87it/s]\u001b[A\n",
      " 26%|██▋       | 410/1554 [00:02<00:06, 183.59it/s]\u001b[A\n",
      " 28%|██▊       | 430/1554 [00:02<00:06, 186.11it/s]\u001b[A\n",
      " 29%|██▉       | 449/1554 [00:02<00:05, 186.11it/s]\u001b[A\n",
      " 30%|███       | 468/1554 [00:02<00:05, 186.91it/s]\u001b[A\n",
      " 31%|███▏      | 487/1554 [00:02<00:05, 187.73it/s]\u001b[A\n",
      " 33%|███▎      | 506/1554 [00:02<00:05, 186.40it/s]\u001b[A\n",
      " 34%|███▍      | 525/1554 [00:02<00:05, 187.30it/s]\u001b[A\n",
      " 35%|███▌      | 545/1554 [00:02<00:05, 188.41it/s]\u001b[A\n",
      " 36%|███▋      | 564/1554 [00:03<00:05, 186.63it/s]\u001b[A\n",
      " 38%|███▊      | 583/1554 [00:03<00:05, 186.85it/s]\u001b[A\n",
      " 39%|███▊      | 602/1554 [00:03<00:05, 184.66it/s]\u001b[A\n",
      " 40%|████      | 622/1554 [00:03<00:04, 188.00it/s]\u001b[A\n",
      " 41%|████      | 641/1554 [00:03<00:04, 187.66it/s]\u001b[A\n",
      " 42%|████▏     | 660/1554 [00:03<00:04, 186.98it/s]\u001b[A\n",
      " 44%|████▎     | 679/1554 [00:03<00:04, 187.24it/s]\u001b[A\n",
      " 45%|████▍     | 698/1554 [00:03<00:04, 179.75it/s]\u001b[A\n",
      " 46%|████▌     | 717/1554 [00:03<00:04, 173.52it/s]\u001b[A\n",
      " 47%|████▋     | 735/1554 [00:04<00:04, 165.94it/s]\u001b[A\n",
      " 49%|████▊     | 754/1554 [00:04<00:04, 170.36it/s]\u001b[A\n",
      " 50%|████▉     | 772/1554 [00:04<00:04, 172.30it/s]\u001b[A\n",
      " 51%|█████     | 790/1554 [00:04<00:04, 173.06it/s]\u001b[A\n",
      " 52%|█████▏    | 808/1554 [00:04<00:04, 172.24it/s]\u001b[A\n",
      " 53%|█████▎    | 826/1554 [00:04<00:04, 173.24it/s]\u001b[A\n",
      " 54%|█████▍    | 844/1554 [00:04<00:04, 171.64it/s]\u001b[A\n",
      " 55%|█████▌    | 862/1554 [00:04<00:04, 172.49it/s]\u001b[A\n",
      " 57%|█████▋    | 881/1554 [00:04<00:03, 175.11it/s]\u001b[A\n",
      " 58%|█████▊    | 899/1554 [00:04<00:03, 176.17it/s]\u001b[A\n",
      " 59%|█████▉    | 917/1554 [00:05<00:03, 176.70it/s]\u001b[A\n",
      " 60%|██████    | 935/1554 [00:05<00:03, 173.56it/s]\u001b[A\n",
      " 61%|██████▏   | 953/1554 [00:05<00:03, 168.29it/s]\u001b[A\n",
      " 62%|██████▏   | 970/1554 [00:05<00:03, 163.42it/s]\u001b[A\n",
      " 64%|██████▎   | 987/1554 [00:05<00:03, 160.86it/s]\u001b[A\n",
      " 65%|██████▍   | 1004/1554 [00:05<00:03, 158.11it/s]\u001b[A\n",
      " 66%|██████▌   | 1020/1554 [00:05<00:03, 155.14it/s]\u001b[A\n",
      " 67%|██████▋   | 1036/1554 [00:05<00:03, 152.36it/s]\u001b[A\n",
      " 68%|██████▊   | 1052/1554 [00:05<00:03, 148.92it/s]\u001b[A\n",
      " 69%|██████▊   | 1068/1554 [00:06<00:03, 151.09it/s]\u001b[A\n",
      " 70%|██████▉   | 1086/1554 [00:06<00:02, 158.04it/s]\u001b[A\n",
      " 71%|███████   | 1104/1554 [00:06<00:02, 163.86it/s]\u001b[A\n",
      " 72%|███████▏  | 1123/1554 [00:06<00:02, 169.04it/s]\u001b[A\n",
      " 73%|███████▎  | 1141/1554 [00:06<00:02, 171.37it/s]\u001b[A\n",
      " 75%|███████▍  | 1160/1554 [00:06<00:02, 175.58it/s]\u001b[A\n",
      " 76%|███████▌  | 1178/1554 [00:06<00:02, 172.08it/s]\u001b[A\n",
      " 77%|███████▋  | 1196/1554 [00:06<00:02, 169.96it/s]\u001b[A\n",
      " 78%|███████▊  | 1215/1554 [00:06<00:01, 174.69it/s]\u001b[A\n",
      " 79%|███████▉  | 1233/1554 [00:07<00:01, 173.94it/s]\u001b[A\n",
      " 81%|████████  | 1251/1554 [00:07<00:01, 169.40it/s]\u001b[A\n",
      " 82%|████████▏ | 1269/1554 [00:07<00:01, 167.23it/s]\u001b[A\n",
      " 83%|████████▎ | 1286/1554 [00:07<00:01, 166.36it/s]\u001b[A\n",
      " 84%|████████▍ | 1304/1554 [00:07<00:01, 169.88it/s]\u001b[A\n",
      " 85%|████████▌ | 1322/1554 [00:07<00:01, 172.00it/s]\u001b[A\n",
      " 86%|████████▌ | 1340/1554 [00:07<00:01, 169.53it/s]\u001b[A\n",
      " 87%|████████▋ | 1357/1554 [00:07<00:01, 166.61it/s]\u001b[A\n",
      " 88%|████████▊ | 1375/1554 [00:07<00:01, 167.77it/s]\u001b[A\n",
      " 90%|████████▉ | 1393/1554 [00:07<00:00, 170.38it/s]\u001b[A\n",
      " 91%|█████████ | 1411/1554 [00:08<00:00, 171.81it/s]\u001b[A\n",
      " 92%|█████████▏| 1430/1554 [00:08<00:00, 176.11it/s]\u001b[A\n",
      " 93%|█████████▎| 1449/1554 [00:08<00:00, 179.69it/s]\u001b[A\n",
      " 94%|█████████▍| 1468/1554 [00:08<00:00, 176.29it/s]\u001b[A\n",
      " 96%|█████████▌| 1486/1554 [00:08<00:00, 174.13it/s]\u001b[A\n",
      " 97%|█████████▋| 1504/1554 [00:08<00:00, 172.90it/s]\u001b[A\n",
      " 98%|█████████▊| 1522/1554 [00:08<00:00, 173.71it/s]\u001b[A\n",
      " 99%|█████████▉| 1541/1554 [00:08<00:00, 176.42it/s]\u001b[A\n",
      "100%|██████████| 1554/1554 [00:08<00:00, 174.79it/s]\u001b[A"
     ]
    }
   ],
   "source": [
    "df = pd.read_csv(\"data/cr/cleaned_augmented.csv\")\n",
    "df['content'] = df['content'].progress_apply(clean_tweet2)\n",
    "df = df.drop_duplicates('content', keep='first')\n",
    "df.to_csv(\"data/cr/cleaned_augmented_complete.csv\")"
   ]
  },
  {
   "cell_type": "markdown",
   "metadata": {},
   "source": [
    "## Explore data"
   ]
  },
  {
   "cell_type": "markdown",
   "metadata": {},
   "source": [
    "### Load data from file"
   ]
  },
  {
   "cell_type": "code",
   "execution_count": null,
   "metadata": {},
   "outputs": [],
   "source": [
    "df.head()"
   ]
  },
  {
   "cell_type": "code",
   "execution_count": null,
   "metadata": {},
   "outputs": [],
   "source": [
    "df.tail()"
   ]
  },
  {
   "cell_type": "code",
   "execution_count": null,
   "metadata": {},
   "outputs": [],
   "source": [
    "df.info()"
   ]
  },
  {
   "cell_type": "code",
   "execution_count": null,
   "metadata": {},
   "outputs": [],
   "source": [
    "polarity_counts = Counter(df.polarity.values)\n",
    "plotdf = pd.DataFrame.from_dict(polarity_counts, orient='index')\n",
    "plotdf.plot(kind='bar')"
   ]
  },
  {
   "cell_type": "markdown",
   "metadata": {},
   "source": [
    "## Classifier"
   ]
  },
  {
   "cell_type": "markdown",
   "metadata": {},
   "source": [
    "### Turn tweets into features"
   ]
  },
  {
   "cell_type": "code",
   "execution_count": 116,
   "metadata": {},
   "outputs": [],
   "source": [
    "class PolarityExtractor(BaseEstimator, TransformerMixin):\n",
    "\n",
    "    def __init__(self):\n",
    "        pass\n",
    "\n",
    "    def transform(self, X, y=None):\n",
    "        return [self.get_feature(tweet) for tweet in X]\n",
    "    \n",
    "    def get_feature(self, tweet: str):\n",
    "        text = Text(tweet)\n",
    "        text.language = 'es'\n",
    "        features = []\n",
    "        \n",
    "        features.append(sum([1 for w in text.words if w.polarity > 0]) / len(text.words))\n",
    "        features.append(sum([1 for w in text.words if w.polarity == 0]) / len(text.words))\n",
    "        features.append(sum([1 for w in text.words if w.polarity < 0]) / len(text.words))\n",
    "        return features\n",
    "    \n",
    "    def fit(self, X, y=None):\n",
    "        return self  # generally does nothing"
   ]
  },
  {
   "cell_type": "code",
   "execution_count": 178,
   "metadata": {},
   "outputs": [],
   "source": [
    "def plot_confusion_matrix(y_true, y_pred, classes,\n",
    "                          normalize=False,\n",
    "                          title=None,\n",
    "                          cmap=plt.cm.Blues):\n",
    "    \"\"\"\n",
    "    This function prints and plots the confusion matrix.\n",
    "    Normalization can be applied by setting `normalize=True`.\n",
    "    \"\"\"\n",
    "    if not title:\n",
    "        if normalize:\n",
    "            title = 'Normalized confusion matrix'\n",
    "        else:\n",
    "            title = 'Confusion matrix, without normalization'\n",
    "\n",
    "    # Compute confusion matrix\n",
    "    cm = metrics.confusion_matrix(y_true, y_pred)\n",
    "    # Only use the labels that appear in the data\n",
    "    classes = classes[unique_labels(y_true, y_pred)]\n",
    "    if normalize:\n",
    "        cm = cm.astype('float') / cm.sum(axis=1)[:, np.newaxis]\n",
    "        print(\"Normalized confusion matrix\")\n",
    "    else:\n",
    "        print('Confusion matrix, without normalization')\n",
    "\n",
    "    fig, ax = plt.subplots()\n",
    "    im = ax.imshow(cm, interpolation='nearest', cmap=cmap)\n",
    "    ax.figure.colorbar(im, ax=ax)\n",
    "    # We want to show all ticks...\n",
    "    ax.set(xticks=np.arange(cm.shape[1]),\n",
    "           yticks=np.arange(cm.shape[0]),\n",
    "           # ... and label them with the respective list entries\n",
    "           xticklabels=classes, yticklabels=classes,\n",
    "           title=title,\n",
    "           ylabel='True label',\n",
    "           xlabel='Predicted label')\n",
    "\n",
    "    # Rotate the tick labels and set their alignment.\n",
    "    plt.setp(ax.get_xticklabels(), rotation=45, ha=\"right\",\n",
    "             rotation_mode=\"anchor\")\n",
    "\n",
    "    # Loop over data dimensions and create text annotations.\n",
    "    fmt = '.2f' if normalize else 'd'\n",
    "    thresh = cm.max() / 2.\n",
    "    for i in range(cm.shape[0]):\n",
    "        for j in range(cm.shape[1]):\n",
    "            ax.text(j, i, format(cm[i, j], fmt),\n",
    "                    ha=\"center\", va=\"center\",\n",
    "                    color=\"white\" if cm[i, j] > thresh else \"black\")\n",
    "    fig.tight_layout()\n",
    "    return ax"
   ]
  },
  {
   "cell_type": "code",
   "execution_count": 225,
   "metadata": {},
   "outputs": [],
   "source": [
    "df = df.loc[df['augmented'] == 0]\n",
    "df_test = pd.read_csv(\"data/cr/test_cleaned.csv\")"
   ]
  },
  {
   "cell_type": "code",
   "execution_count": 169,
   "metadata": {},
   "outputs": [
    {
     "data": {
      "text/plain": [
       "LabelEncoder()"
      ]
     },
     "execution_count": 169,
     "metadata": {},
     "output_type": "execute_result"
    }
   ],
   "source": [
    "le = preprocessing.LabelEncoder()\n",
    "le.fit(df.polarity)"
   ]
  },
  {
   "cell_type": "code",
   "execution_count": 248,
   "metadata": {},
   "outputs": [],
   "source": [
    "feature1 = Pipeline([(\"vect\", CountVectorizer()), ('tfidf', TfidfTransformer(use_idf=False))])\n",
    "feature2 = Pipeline([('polarity', PolarityExtractor())])\n",
    "\n",
    "text_clf = Pipeline([\n",
    "    ('features', FeatureUnion([\n",
    "        (\"tfidf\", TfidfVectorizer()),\n",
    "        ('feature2', feature2),\n",
    "    ])),\n",
    "    ('clf', LogisticRegression()),\n",
    "])"
   ]
  },
  {
   "cell_type": "code",
   "execution_count": 249,
   "metadata": {},
   "outputs": [
    {
     "name": "stdout",
     "output_type": "stream",
     "text": [
      "0.5461538461538461\n",
      "Normalized confusion matrix\n"
     ]
    },
    {
     "name": "stderr",
     "output_type": "stream",
     "text": [
      "/home/yanzheb/.local/share/virtualenvs/TASS-2019-ZSQ9DPWS/lib/python3.7/site-packages/sklearn/linear_model/logistic.py:433: FutureWarning: Default solver will be changed to 'lbfgs' in 0.22. Specify a solver to silence this warning.\n",
      "  FutureWarning)\n",
      "/home/yanzheb/.local/share/virtualenvs/TASS-2019-ZSQ9DPWS/lib/python3.7/site-packages/sklearn/linear_model/logistic.py:460: FutureWarning: Default multi_class will be changed to 'auto' in 0.22. Specify the multi_class option to silence this warning.\n",
      "  \"this warning.\", FutureWarning)\n"
     ]
    },
    {
     "data": {
      "text/plain": [
       "<matplotlib.axes._subplots.AxesSubplot at 0x7f64746183c8>"
      ]
     },
     "execution_count": 249,
     "metadata": {},
     "output_type": "execute_result"
    },
    {
     "data": {
      "image/png": "[encoded data removed]",
      "text/plain": [
       "<Figure size 432x288 with 2 Axes>"
      ]
     },
     "metadata": {
      "needs_background": "light"
     },
     "output_type": "display_data"
    }
   ],
   "source": [
    "text_clf.get_params().keys()\n",
    "parameters = {\n",
    "    'features__tfidf__use_idf': (True, False),\n",
    "    'features__tfidf__ngram_range': [(1, 1), (1, 2), (1, 3), (1, 4), (1, 5), (1, 6)],}\n",
    "\n",
    "gs_clf = GridSearchCV(text_clf, parameters, cv=5, iid=False, n_jobs=-1)\n",
    "gs_clf.fit(df.content, le.transform(df.polarity))\n",
    "predicted = gs_clf.predict(df_test.content)\n",
    "\n",
    "print(np.mean(predicted == le.transform(df_test.polarity)))\n",
    "plot_confusion_matrix(le.transform(df_test.polarity), predicted, le.classes_, True)"
   ]
  },
  {
   "cell_type": "code",
   "execution_count": null,
   "metadata": {},
   "outputs": [],
   "source": []
  }
 ],
 "metadata": {
  "kernelspec": {
   "display_name": "TASS-2019",
   "language": "python",
   "name": "tass-2019"
  },
  "language_info": {
   "codemirror_mode": {
    "name": "ipython",
    "version": 3
   },
   "file_extension": ".py",
   "mimetype": "text/x-python",
   "name": "python",
   "nbconvert_exporter": "python",
   "pygments_lexer": "ipython3",
   "version": "3.7.3"
  },
  "toc": {
   "base_numbering": 1,
   "nav_menu": {},
   "number_sections": true,
   "sideBar": true,
   "skip_h1_title": false,
   "title_cell": "Table of Contents",
   "title_sidebar": "Contents",
   "toc_cell": false,
   "toc_position": {
    "height": "calc(100% - 180px)",
    "left": "10px",
    "top": "150px",
    "width": "384px"
   },
   "toc_section_display": true,
   "toc_window_display": true
  }
 },
 "nbformat": 4,
 "nbformat_minor": 2
}
