{
 "cells": [
  {
   "cell_type": "markdown",
   "metadata": {},
   "source": [
    "## Load needed things"
   ]
  },
  {
   "cell_type": "markdown",
   "metadata": {},
   "source": [
    "### Import packages"
   ]
  },
  {
   "cell_type": "code",
   "execution_count": 1,
   "metadata": {},
   "outputs": [],
   "source": [
    "import numpy as np\n",
    "import nltk\n",
    "import pandas as pd\n",
    "import xml.etree.ElementTree as ET\n",
    "from collections import namedtuple\n",
    "from os import listdir\n",
    "from os.path import isfile, join\n",
    "import re\n",
    "import string\n",
    "from typing import Callable, List\n",
    "from spellchecker import SpellChecker\n",
    "import json\n",
    "from tqdm import tqdm\n",
    "import spacy\n",
    "import ftfy\n",
    "from collections import Counter\n",
    "from sklearn import preprocessing\n",
    "from sklearn.ensemble import ExtraTreesClassifier, RandomForestClassifier, AdaBoostClassifier\n",
    "from sklearn.model_selection import KFold\n",
    "from polyglot.text import Text\n",
    "from mtranslate import translate\n",
    "from sklearn.linear_model import LogisticRegression\n",
    "from sklearn.pipeline import Pipeline\n",
    "from sklearn.feature_extraction.text import TfidfTransformer, TfidfVectorizer, CountVectorizer\n",
    "from sklearn.pipeline import FeatureUnion\n",
    "from sklearn.base import BaseEstimator, TransformerMixin\n",
    "from sklearn import metrics\n",
    "from sklearn.utils.multiclass import unique_labels\n",
    "import matplotlib.pyplot as plt\n",
    "from sklearn.model_selection import GridSearchCV\n",
    "from sklearn.svm import LinearSVC\n",
    "import unidecode\n",
    "from sklearn.decomposition import TruncatedSVD, PCA\n",
    "from sklearn.cluster import KMeans\n",
    "\n",
    "%matplotlib inline\n",
    "tqdm.pandas()"
   ]
  },
  {
   "cell_type": "markdown",
   "metadata": {},
   "source": [
    "### Define needed variables\n",
    "\n",
    "The word embedding can be found here http://new.spinningbytes.com/resources/wordembeddings/. All credits go to Spinning bytes for the embedding."
   ]
  },
  {
   "cell_type": "code",
   "execution_count": 2,
   "metadata": {},
   "outputs": [],
   "source": [
    "def loadEmbeddingModel(file):\n",
    "    model = {}\n",
    "    with open(file, 'r') as f:\n",
    "        for line in f:\n",
    "            splitLine = line.split()\n",
    "            word = splitLine[0]\n",
    "            embedding = np.array([float(val) for val in splitLine[1:]])\n",
    "            model[word] = embedding\n",
    "        print(\"Done.\",len(model),\" words loaded!\")\n",
    "    return model\n",
    "\n",
    "def get_word_embedding(word: str):\n",
    "    word = unidecode.unidecode(word.lower().strip())\n",
    "    try:\n",
    "        embedd = embedding[word]\n",
    "    except:\n",
    "        return []\n",
    "    return embedd\n",
    "\n",
    "def get_tweet_emedding(tweet: str):\n",
    "    return np.mean([get_word_embedding(word) for word in nltk.word_tokenize(tweet) if len(get_word_embedding(word)) > 0],\n",
    "                  axis=0)"
   ]
  },
  {
   "cell_type": "code",
   "execution_count": 3,
   "metadata": {},
   "outputs": [
    {
     "name": "stdout",
     "output_type": "stream",
     "text": [
      "Done. 201383  words loaded!\n"
     ]
    }
   ],
   "source": [
    "tweet = namedtuple('Tweet', ['tweetid', 'content', 'polarity'])\n",
    "stopWords = set(nltk.corpus.stopwords.words('spanish'))\n",
    "nlp = spacy.load('es')\n",
    "spell = SpellChecker(language='es')\n",
    "embedding = loadEmbeddingModel('embedding_file')"
   ]
  },
  {
   "cell_type": "markdown",
   "metadata": {},
   "source": [
    "## Preprocessing"
   ]
  },
  {
   "cell_type": "markdown",
   "metadata": {},
   "source": [
    "### Read data"
   ]
  },
  {
   "cell_type": "code",
   "execution_count": null,
   "metadata": {
    "scrolled": true
   },
   "outputs": [],
   "source": [
    "def read_data(file: str) -> pd.DataFrame:\n",
    "    \"\"\"Read data from given file and return it as a dataframe.\"\"\"\n",
    "    tweets: List = []\n",
    "    with open(file, 'r') as f:\n",
    "        tree = ET.parse(file)\n",
    "        root = tree.getroot()\n",
    "        for child in root:\n",
    "            tweets.append(tweet(child[0].text, child[2].text, child[5][0][0].text))\n",
    "    return pd.DataFrame(tweets)\n",
    "\n",
    "def read_folder(folder: str) -> pd.DataFrame:\n",
    "    \"\"\"\n",
    "    Read data from given folder, combines the training and dev set\n",
    "    and return them combined as a dataframe.\n",
    "    \"\"\"\n",
    "    dataframes = []\n",
    "    files = [f for f in listdir(folder) if isfile(join(folder, f))]\n",
    "    for file in files:\n",
    "        if 'xml' in file:\n",
    "            dataframes.append(read_data(folder + file))\n",
    "    return pd.concat(dataframes)"
   ]
  },
  {
   "cell_type": "markdown",
   "metadata": {},
   "source": [
    "### String manipulation\n",
    "\n",
    "Don't need to care for emoticons, because there are less than 10."
   ]
  },
  {
   "cell_type": "code",
   "execution_count": null,
   "metadata": {},
   "outputs": [],
   "source": [
    "def remove_mention(tweet: str) -> str:\n",
    "    return re.sub(r'@[A-Za-z0-9]+', '', tweet)\n",
    "\n",
    "def lower_case(tweet: str) -> str:\n",
    "    \"\"\"Turn a tweet to lower case.\"\"\"\n",
    "    return tweet.lower()\n",
    "\n",
    "def remove_question_mark(tweet: str) -> str:\n",
    "    \"\"\"Remove spanish question mark from a tweet.\"\"\"\n",
    "    return tweet.replace('¿', '')\n",
    "\n",
    "def remove_punctuation(tweet: str) -> str:\n",
    "    \"\"\"Remove punctuation from a tweet.\"\"\"\n",
    "    return tweet.translate(str.maketrans('', '', string.punctuation))\n",
    "\n",
    "def remove_whitespace(tweet: str) -> str:\n",
    "    return tweet.strip()\n",
    "\n",
    "def check_int(s):\n",
    "    if s[0] in ('-', '+'):\n",
    "        return s[1:].isdigit()\n",
    "    return s.isdigit()\n",
    "\n",
    "def remove_numbers(tweet: str) -> str:\n",
    "    \"\"\"Remove numbers from tweet.\"\"\"\n",
    "    tokenized = nltk.word_tokenize(tweet)\n",
    "    return ' '.join([word for word in tokenized if not check_int(word)])\n",
    "\n",
    "def fix_encoding(tweet: str) -> str:\n",
    "    return ftfy.fix_encoding(tweet)\n",
    "\n",
    "def fix_repeated_letters(tweet: str) -> str:\n",
    "    \"\"\"Replace repeated characters (3 repetitions or more) with only two characters.\"\"\"\n",
    "    return re.sub(r'(.)\\1+', r'\\1\\1', tweet)\n",
    "\n",
    "def fix_spelling(tweet: str) -> str:\n",
    "    \"\"\"Fix spelling error in tweets.\"\"\"\n",
    "    tokenized = nltk.word_tokenize(tweet)\n",
    "    misspelled = spell.unknown(tokenized)\n",
    "    for i in range(len(tokenized)):\n",
    "        if tokenized[i] in misspelled:\n",
    "            tokenized[i] = spell.correction(tokenized[i])\n",
    "    return ' '.join(tokenized)\n",
    "\n",
    "def clean_tweet(tweet: str) -> str:\n",
    "    \"\"\"Run a tweet through cleaning pipeline.\"\"\"\n",
    "    # List of function\n",
    "    functions: List[Callable] = [\n",
    "                 remove_mention,\n",
    "                 lower_case,\n",
    "                 remove_question_mark,\n",
    "                 remove_punctuation,\n",
    "                 remove_numbers,\n",
    "                 remove_whitespace,\n",
    "                 fix_repeated_letters,\n",
    "                 fix_encoding,\n",
    "                 fix_spelling\n",
    "                 ]\n",
    "    for f in functions:\n",
    "        tweet = f(tweet)\n",
    "        \n",
    "    return tweet"
   ]
  },
  {
   "cell_type": "markdown",
   "metadata": {},
   "source": [
    "### Spelling\n",
    "Preprocessing that should be done after spell correction."
   ]
  },
  {
   "cell_type": "code",
   "execution_count": null,
   "metadata": {},
   "outputs": [],
   "source": [
    "def stem_tweet(tweet: str) -> str:\n",
    "    tweet = nlp(tweet)\n",
    "    return ' '.join([token.lemma_ for token in tweet])\n",
    "\n",
    "def augment_data(df):\n",
    "    new_trans = 2\n",
    "    new_df = df.copy()\n",
    "    new_df['augmented'] = 0\n",
    "    new_df['from_lang'] = 'none'\n",
    "    for index, row in tqdm(new_df.iterrows()):\n",
    "        new_df = add_row(new_df, row, 'en')\n",
    "        \n",
    "        if row['polarity'] == 'NONE' or row['polarity'] == 'NEU':\n",
    "            new_df = add_row(new_df, row, 'fr')\n",
    "        \n",
    "    return new_df\n",
    "\n",
    "def add_row(dataf, old_row, lang):\n",
    "    trans = translate(translate(old_row['content'], lang, 'es'), 'es', lang)\n",
    "    row = {'tweetid': old_row['tweetid'],\n",
    "                      'content': trans,\n",
    "                      'polarity': old_row['polarity'],\n",
    "                      'augmented': 1,\n",
    "                      'from_lang': lang}\n",
    "    dataf = dataf.append(row, ignore_index=True)\n",
    "    return dataf"
   ]
  },
  {
   "cell_type": "markdown",
   "metadata": {},
   "source": [
    "### Clean and save"
   ]
  },
  {
   "cell_type": "code",
   "execution_count": null,
   "metadata": {
    "scrolled": true
   },
   "outputs": [],
   "source": [
    "df = read_data(\"data/cr/intertass_cr_train.xml\")\n",
    "df['content'] = df['content'].progress_apply(clean_tweet)\n",
    "df.to_csv(\"data/cr/cleaned.csv\", index=False)"
   ]
  },
  {
   "cell_type": "code",
   "execution_count": null,
   "metadata": {},
   "outputs": [],
   "source": [
    "df = pd.read_csv(\"data/cr/cleaned.csv\")\n",
    "df = augment_data(df)\n",
    "df.to_csv(\"data/cr/cleaned_augmented.csv\", index=False)"
   ]
  },
  {
   "cell_type": "code",
   "execution_count": null,
   "metadata": {
    "scrolled": true
   },
   "outputs": [],
   "source": [
    "df = pd.read_csv(\"data/cr/cleaned_augmented.csv\")\n",
    "df['content'] = df['content'].progress_apply(stem_tweet)\n",
    "df = df.drop_duplicates('content', keep='first')\n",
    "df.to_csv(\"data/cr/cleaned_augmented_complete.csv\")"
   ]
  },
  {
   "cell_type": "markdown",
   "metadata": {},
   "source": [
    "## Explore data"
   ]
  },
  {
   "cell_type": "markdown",
   "metadata": {},
   "source": [
    "### Load data from file"
   ]
  },
  {
   "cell_type": "code",
   "execution_count": null,
   "metadata": {},
   "outputs": [],
   "source": [
    "df.head()"
   ]
  },
  {
   "cell_type": "code",
   "execution_count": null,
   "metadata": {},
   "outputs": [],
   "source": [
    "df.tail()"
   ]
  },
  {
   "cell_type": "code",
   "execution_count": null,
   "metadata": {},
   "outputs": [],
   "source": [
    "df.info()"
   ]
  },
  {
   "cell_type": "code",
   "execution_count": null,
   "metadata": {},
   "outputs": [],
   "source": [
    "polarity_counts = Counter(df.polarity.values)\n",
    "plotdf = pd.DataFrame.from_dict(polarity_counts, orient='index')\n",
    "plotdf.plot(kind='bar')"
   ]
  },
  {
   "cell_type": "markdown",
   "metadata": {},
   "source": [
    "## Classifier"
   ]
  },
  {
   "cell_type": "markdown",
   "metadata": {
    "heading_collapsed": true
   },
   "source": [
    "### Neccessary things for classification"
   ]
  },
  {
   "cell_type": "code",
   "execution_count": 8,
   "metadata": {
    "hidden": true
   },
   "outputs": [],
   "source": [
    "def plot_confusion_matrix(y_true, y_pred, classes,\n",
    "                          normalize=False,\n",
    "                          title=None,\n",
    "                          cmap=plt.cm.Blues):\n",
    "    \"\"\"\n",
    "    This function prints and plots the confusion matrix.\n",
    "    Normalization can be applied by setting `normalize=True`.\n",
    "    \"\"\"\n",
    "    if not title:\n",
    "        if normalize:\n",
    "            title = 'Normalized confusion matrix'\n",
    "        else:\n",
    "            title = 'Confusion matrix, without normalization'\n",
    "\n",
    "    # Compute confusion matrix\n",
    "    cm = metrics.confusion_matrix(y_true, y_pred)\n",
    "    # Only use the labels that appear in the data\n",
    "    classes = classes[unique_labels(y_true, y_pred)]\n",
    "    if normalize:\n",
    "        cm = cm.astype('float') / cm.sum(axis=1)[:, np.newaxis]\n",
    "        print(\"Normalized confusion matrix\")\n",
    "    else:\n",
    "        print('Confusion matrix, without normalization')\n",
    "\n",
    "    fig, ax = plt.subplots()\n",
    "    im = ax.imshow(cm, interpolation='nearest', cmap=cmap)\n",
    "    ax.figure.colorbar(im, ax=ax)\n",
    "    # We want to show all ticks...\n",
    "    ax.set(xticks=np.arange(cm.shape[1]),\n",
    "           yticks=np.arange(cm.shape[0]),\n",
    "           # ... and label them with the respective list entries\n",
    "           xticklabels=classes, yticklabels=classes,\n",
    "           title=title,\n",
    "           ylabel='True label',\n",
    "           xlabel='Predicted label')\n",
    "\n",
    "    # Rotate the tick labels and set their alignment.\n",
    "    plt.setp(ax.get_xticklabels(), rotation=45, ha=\"right\",\n",
    "             rotation_mode=\"anchor\")\n",
    "\n",
    "    # Loop over data dimensions and create text annotations.\n",
    "    fmt = '.2f' if normalize else 'd'\n",
    "    thresh = cm.max() / 2.\n",
    "    for i in range(cm.shape[0]):\n",
    "        for j in range(cm.shape[1]):\n",
    "            ax.text(j, i, format(cm[i, j], fmt),\n",
    "                    ha=\"center\", va=\"center\",\n",
    "                    color=\"white\" if cm[i, j] > thresh else \"black\")\n",
    "    fig.tight_layout()\n",
    "    return ax\n",
    "\n",
    "class PolarityExtractor(BaseEstimator, TransformerMixin):\n",
    "\n",
    "    def __init__(self):\n",
    "        pass\n",
    "\n",
    "    def transform(self, X, y=None):\n",
    "        return [self.get_feature(tweet) for tweet in X]\n",
    "    \n",
    "    def get_feature(self, tweet: str):\n",
    "        text = Text(tweet)\n",
    "        text.language = 'es'\n",
    "        features = []\n",
    "        \n",
    "        features.append(sum([1 for w in text.words if w.polarity > 0]) / len(text.words))\n",
    "        features.append(sum([1 for w in text.words if w.polarity == 0]) / len(text.words))\n",
    "        features.append(sum([1 for w in text.words if w.polarity < 0]) / len(text.words))\n",
    "        return features\n",
    "    \n",
    "    def fit(self, X, y=None):\n",
    "        return self  # generally does nothing\n",
    "\n",
    "class EmbeddingExtractor(BaseEstimator, TransformerMixin):\n",
    "\n",
    "    def __init__(self):\n",
    "        pass\n",
    "\n",
    "    def transform(self, X, y=None):\n",
    "        return [self.get_feature(tweet) for tweet in X]\n",
    "    \n",
    "    def get_feature(self, tweet: str):\n",
    "        return get_tweet_emedding(tweet)\n",
    "    \n",
    "    def fit(self, X, y=None):\n",
    "        return self  # generally does nothing"
   ]
  },
  {
   "cell_type": "markdown",
   "metadata": {},
   "source": [
    "### Load neccessary data"
   ]
  },
  {
   "cell_type": "code",
   "execution_count": 4,
   "metadata": {},
   "outputs": [],
   "source": [
    "df_train = pd.read_csv(\"data/cr/cleaned_augmented_complete.csv\")\n",
    "df_test = pd.read_csv(\"data/cr/test_cleaned.csv\")"
   ]
  },
  {
   "cell_type": "code",
   "execution_count": 6,
   "metadata": {},
   "outputs": [
    {
     "data": {
      "text/plain": [
       "LabelEncoder()"
      ]
     },
     "execution_count": 6,
     "metadata": {},
     "output_type": "execute_result"
    }
   ],
   "source": [
    "le = preprocessing.LabelEncoder()\n",
    "le.fit(df_train.polarity)"
   ]
  },
  {
   "cell_type": "markdown",
   "metadata": {},
   "source": [
    "### Classify the tweets"
   ]
  },
  {
   "cell_type": "code",
   "execution_count": 9,
   "metadata": {},
   "outputs": [],
   "source": [
    "vect = Pipeline([(\"vect\", CountVectorizer(ngram_range=(1, 2))),\n",
    "                     ('latent', TruncatedSVD(n_components=100, random_state=0)),])\n",
    "\n",
    "polarity = Pipeline([('polarity', PolarityExtractor())])\n",
    "\n",
    "embedd_feat = Pipeline([('embedding', EmbeddingExtractor()),\n",
    "                       ('latent', PCA(n_components=50, random_state=0)),])\n",
    "\n",
    "tfidf = Pipeline([(\"tfidf\", TfidfVectorizer(ngram_range=(1, 2))),\n",
    "                    ('latent', TruncatedSVD(n_components=600, random_state=0)),])\n",
    "\n",
    "kmeans_vect = Pipeline([(\"vect\", CountVectorizer(ngram_range=(1, 4))),\n",
    "                     ('latent', TruncatedSVD(n_components=500, random_state=0)),\n",
    "                     ('kmeans', KMeans(n_clusters=4, random_state=0, n_jobs=-1))])\n",
    "\n",
    "kmeans_tfidf = Pipeline([(\"tfidf\", TfidfVectorizer(ngram_range=(1, 2))),\n",
    "                     ('latent', TruncatedSVD(n_components=600, random_state=0)),\n",
    "                     ('kmeans', KMeans(n_clusters=4, random_state=0, n_jobs=-1))])\n",
    "\n",
    "text_clf = Pipeline([\n",
    "    ('features', FeatureUnion([\n",
    "        (\"vect\", vect),\n",
    "        ('polarity', polarity),\n",
    "        ('tfidf', tfidf),\n",
    "        ('kmeans_vect', kmeans_vect),\n",
    "        ('kmeans_tfidf', kmeans_tfidf),\n",
    "        ('embedding', embedd_feat)\n",
    "    ])),\n",
    "    ('clf',  LinearSVC()),\n",
    "])"
   ]
  },
  {
   "cell_type": "code",
   "execution_count": 10,
   "metadata": {
    "scrolled": true
   },
   "outputs": [
    {
     "name": "stderr",
     "output_type": "stream",
     "text": [
      "/home/yanzheb/.local/share/virtualenvs/TASS-2019-ZSQ9DPWS/lib/python3.7/site-packages/sklearn/svm/base.py:931: ConvergenceWarning: Liblinear failed to converge, increase the number of iterations.\n",
      "  \"the number of iterations.\", ConvergenceWarning)\n"
     ]
    },
    {
     "name": "stdout",
     "output_type": "stream",
     "text": [
      "0.5692307692307692\n",
      "Normalized confusion matrix\n"
     ]
    },
    {
     "data": {
      "text/plain": [
       "<matplotlib.axes._subplots.AxesSubplot at 0x7f2ad1b9e7f0>"
      ]
     },
     "execution_count": 10,
     "metadata": {},
     "output_type": "execute_result"
    },
    {
     "data": {
      "image/png": "[encoded data removed]",
      "text/plain": [
       "<Figure size 432x288 with 2 Axes>"
      ]
     },
     "metadata": {
      "needs_background": "light"
     },
     "output_type": "display_data"
    }
   ],
   "source": [
    "text_clf.fit(df_train.content, le.transform(df_train.polarity))\n",
    "predicted = text_clf.predict(df_test.content)\n",
    "\n",
    "print(np.mean(predicted == le.transform(df_test.polarity)))\n",
    "plot_confusion_matrix(le.transform(df_test.polarity), predicted, le.classes_, True)"
   ]
  },
  {
   "cell_type": "code",
   "execution_count": 12,
   "metadata": {},
   "outputs": [
    {
     "name": "stdout",
     "output_type": "stream",
     "text": [
      "f1_score: 0.507591\n",
      "\n",
      "precision: 0.535875\n",
      "\n",
      "recall: 0.482144\n",
      "\n",
      "accuracy: 0.569231\n",
      "\n"
     ]
    }
   ],
   "source": [
    "save_df = pd.DataFrame(data={'tweetid': df_test.tweetid, 'prediction': le.inverse_transform(predicted)})\n",
    "save_df.to_csv(\"data/cr/cr.tsv\", header=False, index=False, sep='\\t')\n",
    "%run evaluate.py \"/home/yanzheb/projects/TASS-2019/data/cr/cr.tsv\" \"/home/yanzheb/projects/TASS-2019/data/cr/intertass_cr_dev_gold.tsv\""
   ]
  },
  {
   "cell_type": "code",
   "execution_count": null,
   "metadata": {},
   "outputs": [],
   "source": []
  }
 ],
 "metadata": {
  "kernelspec": {
   "display_name": "TASS-2019",
   "language": "python",
   "name": "tass-2019"
  },
  "language_info": {
   "codemirror_mode": {
    "name": "ipython",
    "version": 3
   },
   "file_extension": ".py",
   "mimetype": "text/x-python",
   "name": "python",
   "nbconvert_exporter": "python",
   "pygments_lexer": "ipython3",
   "version": "3.7.3"
  },
  "toc": {
   "base_numbering": 1,
   "nav_menu": {},
   "number_sections": true,
   "sideBar": true,
   "skip_h1_title": false,
   "title_cell": "Table of Contents",
   "title_sidebar": "Contents",
   "toc_cell": false,
   "toc_position": {
    "height": "calc(100% - 180px)",
    "left": "10px",
    "top": "150px",
    "width": "384px"
   },
   "toc_section_display": true,
   "toc_window_display": true
  }
 },
 "nbformat": 4,
 "nbformat_minor": 2
}
