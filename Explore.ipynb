{
 "cells": [
  {
   "cell_type": "markdown",
   "metadata": {},
   "source": [
    "## Load needed things"
   ]
  },
  {
   "cell_type": "markdown",
   "metadata": {},
   "source": [
    "### Import packages"
   ]
  },
  {
   "cell_type": "code",
   "execution_count": 149,
   "metadata": {},
   "outputs": [],
   "source": [
    "import numpy as np\n",
    "import nltk\n",
    "import pandas as pd\n",
    "import xml.etree.ElementTree as ET\n",
    "from collections import namedtuple\n",
    "from os import listdir\n",
    "from os.path import isfile, join\n",
    "import re\n",
    "import string\n",
    "from typing import Callable, List\n",
    "from spellchecker import SpellChecker\n",
    "import urllib.request\n",
    "import json\n",
    "from tqdm import tqdm\n",
    "import spacy\n",
    "import ftfy\n",
    "from collections import Counter\n",
    "from sklearn.naive_bayes import MultinomialNB\n",
    "from nltk.classify.scikitlearn import SklearnClassifier\n",
    "from sklearn.preprocessing import LabelEncoder\n",
    "from sklearn.ensemble import ExtraTreesClassifier\n",
    "from sklearn.model_selection import KFold\n",
    "from polyglot.text import Text\n",
    "from mtranslate import translate\n",
    "from sklearn.linear_model import LogisticRegression\n",
    "\n",
    "\n",
    "%matplotlib inline\n",
    "tqdm.pandas()"
   ]
  },
  {
   "cell_type": "markdown",
   "metadata": {},
   "source": [
    "### Define needed variables"
   ]
  },
  {
   "cell_type": "code",
   "execution_count": 2,
   "metadata": {},
   "outputs": [],
   "source": [
    "tweet = namedtuple('Tweet', ['tweetid', 'content', 'polarity'])\n",
    "stopWords = set(nltk.corpus.stopwords.words('spanish'))\n",
    "nlp = spacy.load('es')\n",
    "spell = SpellChecker(language='es')"
   ]
  },
  {
   "cell_type": "markdown",
   "metadata": {},
   "source": [
    "## Preprocessing"
   ]
  },
  {
   "cell_type": "markdown",
   "metadata": {},
   "source": [
    "### Read data"
   ]
  },
  {
   "cell_type": "code",
   "execution_count": 3,
   "metadata": {
    "scrolled": true
   },
   "outputs": [],
   "source": [
    "def read_data(file: str) -> pd.DataFrame:\n",
    "    \"\"\"Read data from given file and return it as a dataframe.\"\"\"\n",
    "    tweets: List = []\n",
    "    with open(file, 'r') as f:\n",
    "        tree = ET.parse(file)\n",
    "        root = tree.getroot()\n",
    "        for child in root:\n",
    "            tweets.append(tweet(child[0].text, child[2].text, child[5][0][0].text))\n",
    "    return pd.DataFrame(tweets)\n",
    "\n",
    "def read_folder(folder: str) -> pd.DataFrame:\n",
    "    \"\"\"\n",
    "    Read data from given folder, combines the training and dev set\n",
    "    and return them combined as a dataframe.\n",
    "    \"\"\"\n",
    "    dataframes = []\n",
    "    files = [f for f in listdir(folder) if isfile(join(folder, f))]\n",
    "    for file in files:\n",
    "        if 'xml' in file:\n",
    "            dataframes.append(read_data(folder + file))\n",
    "    return pd.concat(dataframes)"
   ]
  },
  {
   "cell_type": "markdown",
   "metadata": {},
   "source": [
    "### String manipulation\n",
    "\n",
    "Don't need to care for emoticons, because there are less than 10."
   ]
  },
  {
   "cell_type": "code",
   "execution_count": 4,
   "metadata": {},
   "outputs": [],
   "source": [
    "def remove_mention(tweet: str) -> str:\n",
    "    return re.sub(r'@[A-Za-z0-9]+', '', tweet)\n",
    "\n",
    "def lower_case(tweet: str) -> str:\n",
    "    \"\"\"Turn a tweet to lower case.\"\"\"\n",
    "    return tweet.lower()\n",
    "\n",
    "def remove_question_mark(tweet: str) -> str:\n",
    "    \"\"\"Remove spanish question mark from a tweet.\"\"\"\n",
    "    return tweet.replace('¿', '')\n",
    "\n",
    "def remove_punctuation(tweet: str) -> str:\n",
    "    \"\"\"Remove punctuation from a tweet.\"\"\"\n",
    "    return tweet.translate(str.maketrans('', '', string.punctuation))\n",
    "\n",
    "def remove_whitespace(tweet: str) -> str:\n",
    "    return tweet.strip()\n",
    "\n",
    "def check_int(s):\n",
    "    if s[0] in ('-', '+'):\n",
    "        return s[1:].isdigit()\n",
    "    return s.isdigit()\n",
    "\n",
    "def remove_numbers(tweet: str) -> str:\n",
    "    \"\"\"Remove numbers from tweet.\"\"\"\n",
    "    tokenized = nltk.word_tokenize(tweet)\n",
    "    return ' '.join([word for word in tokenized if not check_int(word)])\n",
    "\n",
    "def fix_encoding(tweet: str) -> str:\n",
    "    return ftfy.fix_encoding(tweet)\n",
    "\n",
    "def fix_repeated_letters(tweet: str) -> str:\n",
    "    \"\"\"Replace repeated characters (3 repetitions or more) with only two characters.\"\"\"\n",
    "    return re.sub(r'(.)\\1+', r'\\1\\1', tweet)\n",
    "\n",
    "def fix_spelling(tweet: str) -> str:\n",
    "    \"\"\"Fix spelling error in tweets.\"\"\"\n",
    "    tokenized = nltk.word_tokenize(tweet)\n",
    "    misspelled = spell.unknown(tokenized)\n",
    "    for i in range(len(tokenized)):\n",
    "        if tokenized[i] in misspelled:\n",
    "            tokenized[i] = spell.correction(tokenized[i])\n",
    "    return ' '.join(tokenized)\n",
    "\n",
    "def clean_tweet(tweet: str) -> str:\n",
    "    \"\"\"Run a tweet through cleaning pipeline.\"\"\"\n",
    "    # List of function\n",
    "    functions: List[Callable] = [\n",
    "                 remove_mention,\n",
    "                 lower_case,\n",
    "                 remove_question_mark,\n",
    "                 remove_punctuation,\n",
    "                 remove_numbers,\n",
    "                 remove_whitespace,\n",
    "                 fix_repeated_letters,\n",
    "                 fix_encoding,\n",
    "                 fix_spelling\n",
    "                 ]\n",
    "    for f in functions:\n",
    "        tweet = f(tweet)\n",
    "        \n",
    "    return tweet"
   ]
  },
  {
   "cell_type": "markdown",
   "metadata": {},
   "source": [
    "### Spelling\n",
    "Preprocessing that should be done after spell correction."
   ]
  },
  {
   "cell_type": "code",
   "execution_count": 75,
   "metadata": {},
   "outputs": [],
   "source": [
    "def remove_stopwords(tweet: str) -> str:\n",
    "    \"\"\"Remove stopwords from tweet.\"\"\"\n",
    "    tokenized = nltk.word_tokenize(tweet)\n",
    "    return ' '.join([word for word in tokenized if word not in stopWords])\n",
    "\n",
    "def stem_tweet(tweet: str) -> str:\n",
    "    tweet = nlp(tweet)\n",
    "    return ' '.join([token.lemma_ for token in tweet])\n",
    "\n",
    "def clean_tweet2(tweet: str) -> str:\n",
    "    \"\"\"Run a tweet through cleaning pipeline.\"\"\"\n",
    "    # List of function\n",
    "    functions: List[Callable] = [\n",
    "                 lower_case,\n",
    "                 remove_stopwords,\n",
    "                 stem_tweet\n",
    "                 ]\n",
    "    for f in functions:\n",
    "        tweet = f(tweet)\n",
    "        \n",
    "    return tweet"
   ]
  },
  {
   "cell_type": "code",
   "execution_count": 165,
   "metadata": {},
   "outputs": [],
   "source": [
    "def augment_data(df):\n",
    "    new_trans = 2\n",
    "    new_df = df.copy()\n",
    "    new_df['augmented'] = 0\n",
    "    for index, row in tqdm(new_df.iterrows()):\n",
    "        trans_en = translate(translate(row['content'], 'en', 'es'), 'es', 'en')\n",
    "\n",
    "        new_row_en = {'tweetid': row['tweetid'],\n",
    "                      'content': trans_en,\n",
    "                      'polarity': row['polarity'],\n",
    "                      'augmented': 1}\n",
    "\n",
    "        new_df = new_df.append(new_row_en, ignore_index=True)\n",
    "    return new_df"
   ]
  },
  {
   "cell_type": "markdown",
   "metadata": {},
   "source": [
    "### Clean and save"
   ]
  },
  {
   "cell_type": "code",
   "execution_count": 7,
   "metadata": {
    "scrolled": true
   },
   "outputs": [
    {
     "name": "stderr",
     "output_type": "stream",
     "text": [
      "100%|██████████| 777/777 [09:05<00:00,  1.42it/s]\n"
     ]
    }
   ],
   "source": [
    "df = read_data(\"data/cr/intertass_cr_train.xml\")\n",
    "df['content'] = df['content'].progress_apply(clean_tweet)\n",
    "df.to_csv(\"data/cr/cleaned.csv\", index=False)"
   ]
  },
  {
   "cell_type": "code",
   "execution_count": 8,
   "metadata": {},
   "outputs": [
    {
     "name": "stderr",
     "output_type": "stream",
     "text": [
      "777it [38:33,  2.03s/it]\n"
     ]
    }
   ],
   "source": [
    "df = pd.read_csv(\"data/cr/cleaned.csv\")\n",
    "df = augment_data(df)\n",
    "df.to_csv(\"data/cr/cleaned_augmented.csv\", index=False)"
   ]
  },
  {
   "cell_type": "code",
   "execution_count": 76,
   "metadata": {
    "scrolled": true
   },
   "outputs": [
    {
     "name": "stderr",
     "output_type": "stream",
     "text": [
      "\n",
      "  0%|          | 0/2331 [00:00<?, ?it/s]\u001b[A\n",
      "  1%|          | 16/2331 [00:00<00:14, 159.90it/s]\u001b[A\n",
      "  1%|▏         | 32/2331 [00:00<00:14, 158.31it/s]\u001b[A\n",
      "  2%|▏         | 46/2331 [00:00<00:15, 149.72it/s]\u001b[A\n",
      "  3%|▎         | 62/2331 [00:00<00:15, 151.17it/s]\u001b[A\n",
      "  3%|▎         | 77/2331 [00:00<00:14, 150.60it/s]\u001b[A\n",
      "  4%|▍         | 93/2331 [00:00<00:14, 151.20it/s]\u001b[A\n",
      "  5%|▍         | 108/2331 [00:00<00:14, 149.89it/s]\u001b[A\n",
      "  5%|▌         | 122/2331 [00:00<00:15, 146.08it/s]\u001b[A\n",
      "  6%|▌         | 137/2331 [00:00<00:14, 147.19it/s]\u001b[A\n",
      "  7%|▋         | 153/2331 [00:01<00:14, 148.37it/s]\u001b[A\n",
      "  7%|▋         | 168/2331 [00:01<00:14, 147.43it/s]\u001b[A\n",
      "  8%|▊         | 184/2331 [00:01<00:14, 148.57it/s]\u001b[A\n",
      "  9%|▊         | 200/2331 [00:01<00:14, 150.30it/s]\u001b[A\n",
      "  9%|▉         | 216/2331 [00:01<00:13, 151.57it/s]\u001b[A\n",
      " 10%|▉         | 232/2331 [00:01<00:13, 153.70it/s]\u001b[A\n",
      " 11%|█         | 248/2331 [00:01<00:13, 152.01it/s]\u001b[A\n",
      " 11%|█▏        | 264/2331 [00:01<00:14, 145.66it/s]\u001b[A\n",
      " 12%|█▏        | 281/2331 [00:01<00:13, 150.18it/s]\u001b[A\n",
      " 13%|█▎        | 298/2331 [00:01<00:13, 154.82it/s]\u001b[A\n",
      " 14%|█▎        | 316/2331 [00:02<00:12, 160.13it/s]\u001b[A\n",
      " 14%|█▍        | 334/2331 [00:02<00:12, 163.54it/s]\u001b[A\n",
      " 15%|█▌        | 351/2331 [00:02<00:12, 164.62it/s]\u001b[A\n",
      " 16%|█▌        | 368/2331 [00:02<00:12, 163.50it/s]\u001b[A\n",
      " 17%|█▋        | 386/2331 [00:02<00:11, 167.46it/s]\u001b[A\n",
      " 17%|█▋        | 404/2331 [00:02<00:11, 168.70it/s]\u001b[A\n",
      " 18%|█▊        | 422/2331 [00:02<00:11, 170.09it/s]\u001b[A\n",
      " 19%|█▉        | 440/2331 [00:02<00:11, 171.07it/s]\u001b[A\n",
      " 20%|█▉        | 458/2331 [00:02<00:10, 172.93it/s]\u001b[A\n",
      " 20%|██        | 476/2331 [00:03<00:10, 173.46it/s]\u001b[A\n",
      " 21%|██        | 494/2331 [00:03<00:10, 174.21it/s]\u001b[A\n",
      " 22%|██▏       | 512/2331 [00:03<00:10, 170.65it/s]\u001b[A\n",
      " 23%|██▎       | 530/2331 [00:03<00:10, 169.98it/s]\u001b[A\n",
      " 24%|██▎       | 548/2331 [00:03<00:10, 171.36it/s]\u001b[A\n",
      " 24%|██▍       | 566/2331 [00:03<00:10, 171.35it/s]\u001b[A\n",
      " 25%|██▌       | 584/2331 [00:03<00:10, 170.90it/s]\u001b[A\n",
      " 26%|██▌       | 602/2331 [00:03<00:10, 171.99it/s]\u001b[A\n",
      " 27%|██▋       | 620/2331 [00:03<00:09, 174.25it/s]\u001b[A\n",
      " 27%|██▋       | 638/2331 [00:03<00:09, 170.74it/s]\u001b[A\n",
      " 61%|██████    | 1427/2331 [00:19<00:05, 163.78it/s][A\n",
      " 29%|██▉       | 673/2331 [00:04<00:09, 166.33it/s]\u001b[A\n",
      " 30%|██▉       | 690/2331 [00:04<00:09, 165.40it/s]\u001b[A\n",
      " 30%|███       | 707/2331 [00:04<00:09, 166.09it/s]\u001b[A\n",
      " 31%|███       | 724/2331 [00:04<00:09, 166.51it/s]\u001b[A\n",
      " 32%|███▏      | 741/2331 [00:04<00:09, 165.98it/s]\u001b[A\n",
      " 33%|███▎      | 758/2331 [00:04<00:09, 165.63it/s]\u001b[A\n",
      " 33%|███▎      | 776/2331 [00:04<00:09, 168.32it/s]\u001b[A\n",
      " 34%|███▍      | 793/2331 [00:04<00:09, 160.07it/s]\u001b[A\n",
      " 35%|███▍      | 810/2331 [00:05<00:09, 158.07it/s]\u001b[A\n",
      " 35%|███▌      | 826/2331 [00:05<00:09, 158.40it/s]\u001b[A\n",
      " 36%|███▌      | 843/2331 [00:05<00:09, 159.22it/s]\u001b[A\n",
      " 37%|███▋      | 860/2331 [00:05<00:09, 161.29it/s]\u001b[A\n",
      " 38%|███▊      | 877/2331 [00:05<00:09, 158.20it/s]\u001b[A\n",
      " 38%|███▊      | 893/2331 [00:05<00:09, 155.96it/s]\u001b[A\n",
      " 39%|███▉      | 909/2331 [00:05<00:09, 156.55it/s]\u001b[A\n",
      " 40%|███▉      | 925/2331 [00:05<00:09, 154.10it/s]\u001b[A\n",
      " 40%|████      | 941/2331 [00:05<00:09, 149.60it/s]\u001b[A\n",
      " 41%|████      | 957/2331 [00:05<00:09, 141.48it/s]\u001b[A\n",
      " 42%|████▏     | 972/2331 [00:06<00:09, 143.84it/s]\u001b[A\n",
      " 42%|████▏     | 987/2331 [00:06<00:09, 140.45it/s]\u001b[A\n",
      " 43%|████▎     | 1002/2331 [00:06<00:09, 141.81it/s]\u001b[A\n",
      " 44%|████▎     | 1017/2331 [00:06<00:09, 143.55it/s]\u001b[A\n",
      " 44%|████▍     | 1033/2331 [00:06<00:08, 146.38it/s]\u001b[A\n",
      " 45%|████▌     | 1049/2331 [00:06<00:08, 149.40it/s]\u001b[A\n",
      " 46%|████▌     | 1065/2331 [00:06<00:08, 151.21it/s]\u001b[A\n",
      " 46%|████▋     | 1081/2331 [00:06<00:08, 152.88it/s]\u001b[A\n",
      " 47%|████▋     | 1097/2331 [00:06<00:08, 153.08it/s]\u001b[A\n",
      " 48%|████▊     | 1113/2331 [00:07<00:07, 152.34it/s]\u001b[A\n",
      " 48%|████▊     | 1129/2331 [00:07<00:08, 148.29it/s]\u001b[A\n",
      " 49%|████▉     | 1144/2331 [00:07<00:08, 146.29it/s]\u001b[A\n",
      " 50%|████▉     | 1159/2331 [00:07<00:07, 147.05it/s]\u001b[A\n",
      " 50%|█████     | 1175/2331 [00:07<00:07, 147.88it/s]\u001b[A\n",
      " 51%|█████     | 1190/2331 [00:07<00:07, 148.25it/s]\u001b[A\n",
      " 52%|█████▏    | 1205/2331 [00:07<00:07, 147.31it/s]\u001b[A\n",
      " 52%|█████▏    | 1220/2331 [00:07<00:07, 148.03it/s]\u001b[A\n",
      " 53%|█████▎    | 1235/2331 [00:07<00:07, 148.31it/s]\u001b[A\n",
      " 54%|█████▎    | 1251/2331 [00:07<00:07, 148.59it/s]\u001b[A\n",
      " 54%|█████▍    | 1267/2331 [00:08<00:07, 149.22it/s]\u001b[A\n",
      " 55%|█████▌    | 1283/2331 [00:08<00:06, 150.10it/s]\u001b[A\n",
      " 56%|█████▌    | 1299/2331 [00:08<00:06, 152.54it/s]\u001b[A\n",
      " 56%|█████▋    | 1316/2331 [00:08<00:06, 154.91it/s]\u001b[A\n",
      " 57%|█████▋    | 1333/2331 [00:08<00:06, 157.03it/s]\u001b[A\n",
      " 58%|█████▊    | 1350/2331 [00:08<00:06, 158.99it/s]\u001b[A\n",
      " 59%|█████▊    | 1367/2331 [00:08<00:05, 161.54it/s]\u001b[A\n",
      " 59%|█████▉    | 1384/2331 [00:08<00:05, 161.49it/s]\u001b[A\n",
      " 60%|██████    | 1401/2331 [00:08<00:05, 163.06it/s]\u001b[A\n",
      " 61%|██████    | 1418/2331 [00:09<00:05, 152.72it/s]\u001b[A\n",
      " 62%|██████▏   | 1435/2331 [00:09<00:05, 157.37it/s]\u001b[A\n",
      " 62%|██████▏   | 1452/2331 [00:09<00:05, 160.85it/s]\u001b[A\n",
      " 63%|██████▎   | 1469/2331 [00:09<00:05, 163.36it/s]\u001b[A\n",
      " 64%|██████▎   | 1486/2331 [00:09<00:05, 165.29it/s]\u001b[A\n",
      " 64%|██████▍   | 1503/2331 [00:09<00:05, 164.09it/s]\u001b[A\n",
      " 65%|██████▌   | 1520/2331 [00:09<00:04, 163.60it/s]\u001b[A\n",
      " 66%|██████▌   | 1537/2331 [00:09<00:04, 163.84it/s]\u001b[A\n",
      " 67%|██████▋   | 1554/2331 [00:09<00:04, 160.96it/s]\u001b[A\n",
      " 67%|██████▋   | 1571/2331 [00:09<00:04, 159.85it/s]\u001b[A\n",
      " 68%|██████▊   | 1588/2331 [00:10<00:04, 158.82it/s]\u001b[A\n",
      " 69%|██████▉   | 1605/2331 [00:10<00:04, 160.77it/s]\u001b[A\n",
      " 70%|██████▉   | 1622/2331 [00:10<00:04, 159.21it/s]\u001b[A\n",
      " 70%|███████   | 1639/2331 [00:10<00:04, 159.82it/s]\u001b[A\n",
      " 71%|███████   | 1656/2331 [00:10<00:04, 160.10it/s]\u001b[A\n",
      " 72%|███████▏  | 1673/2331 [00:10<00:04, 162.74it/s]\u001b[A\n",
      " 73%|███████▎  | 1691/2331 [00:10<00:03, 166.79it/s]\u001b[A\n",
      " 73%|███████▎  | 1709/2331 [00:10<00:03, 168.32it/s]\u001b[A\n",
      " 74%|███████▍  | 1728/2331 [00:10<00:03, 172.14it/s]\u001b[A\n",
      " 75%|███████▍  | 1746/2331 [00:11<00:03, 173.12it/s]\u001b[A\n",
      " 76%|███████▌  | 1764/2331 [00:11<00:03, 170.11it/s]\u001b[A\n",
      " 76%|███████▋  | 1782/2331 [00:11<00:03, 166.44it/s]\u001b[A\n",
      " 77%|███████▋  | 1799/2331 [00:11<00:03, 163.35it/s]\u001b[A\n",
      " 78%|███████▊  | 1816/2331 [00:11<00:03, 162.79it/s]\u001b[A\n",
      " 79%|███████▊  | 1833/2331 [00:11<00:03, 160.60it/s]\u001b[A\n",
      " 79%|███████▉  | 1851/2331 [00:11<00:02, 163.58it/s]\u001b[A\n",
      " 80%|████████  | 1868/2331 [00:11<00:02, 161.88it/s]\u001b[A\n",
      " 81%|████████  | 1885/2331 [00:11<00:02, 163.22it/s]\u001b[A\n",
      " 82%|████████▏ | 1902/2331 [00:11<00:02, 164.13it/s]\u001b[A\n",
      " 82%|████████▏ | 1919/2331 [00:12<00:02, 163.35it/s]\u001b[A\n",
      " 83%|████████▎ | 1936/2331 [00:12<00:02, 165.23it/s]\u001b[A\n",
      " 84%|████████▍ | 1953/2331 [00:12<00:02, 163.28it/s]\u001b[A\n",
      " 85%|████████▍ | 1970/2331 [00:12<00:02, 160.76it/s]\u001b[A\n",
      " 85%|████████▌ | 1987/2331 [00:12<00:02, 154.32it/s]\u001b[A\n",
      " 86%|████████▌ | 2003/2331 [00:12<00:02, 154.49it/s]\u001b[A\n",
      " 87%|████████▋ | 2020/2331 [00:12<00:01, 157.09it/s]\u001b[A\n",
      " 87%|████████▋ | 2036/2331 [00:12<00:01, 152.20it/s]\u001b[A\n",
      " 88%|████████▊ | 2052/2331 [00:12<00:01, 153.21it/s]\u001b[A\n",
      " 89%|████████▉ | 2069/2331 [00:13<00:01, 157.19it/s]\u001b[A\n",
      " 89%|████████▉ | 2086/2331 [00:13<00:01, 158.70it/s]\u001b[A\n",
      " 90%|█████████ | 2102/2331 [00:13<00:01, 154.05it/s]\u001b[A\n",
      " 91%|█████████ | 2118/2331 [00:13<00:01, 154.56it/s]\u001b[A\n",
      " 92%|█████████▏| 2135/2331 [00:13<00:01, 157.96it/s]\u001b[A\n",
      " 92%|█████████▏| 2151/2331 [00:13<00:01, 158.38it/s]\u001b[A\n",
      " 93%|█████████▎| 2168/2331 [00:13<00:01, 160.17it/s]\u001b[A\n",
      " 94%|█████████▎| 2185/2331 [00:13<00:00, 161.95it/s]\u001b[A\n",
      " 94%|█████████▍| 2202/2331 [00:13<00:00, 164.10it/s]\u001b[A\n",
      " 95%|█████████▌| 2220/2331 [00:13<00:00, 166.36it/s]\u001b[A\n",
      " 96%|█████████▌| 2237/2331 [00:14<00:00, 165.40it/s]\u001b[A\n",
      " 97%|█████████▋| 2254/2331 [00:14<00:00, 165.31it/s]\u001b[A\n",
      " 97%|█████████▋| 2271/2331 [00:14<00:00, 165.64it/s]\u001b[A\n",
      " 98%|█████████▊| 2288/2331 [00:14<00:00, 164.06it/s]\u001b[A\n",
      " 99%|█████████▉| 2306/2331 [00:14<00:00, 167.03it/s]\u001b[A\n",
      "100%|█████████▉| 2324/2331 [00:14<00:00, 169.40it/s]\u001b[A\n",
      "100%|██████████| 2331/2331 [00:14<00:00, 159.00it/s]\u001b[A"
     ]
    }
   ],
   "source": [
    "df = pd.read_csv(\"data/cr/cleaned_augmented.csv\")\n",
    "df['content'] = df['content'].progress_apply(clean_tweet2)\n",
    "df.to_csv(\"data/cr/cleaned_augmented_complete.csv\")"
   ]
  },
  {
   "cell_type": "markdown",
   "metadata": {},
   "source": [
    "## Explore data"
   ]
  },
  {
   "cell_type": "markdown",
   "metadata": {},
   "source": [
    "### Load data from file"
   ]
  },
  {
   "cell_type": "code",
   "execution_count": 156,
   "metadata": {
    "scrolled": true
   },
   "outputs": [
    {
     "name": "stderr",
     "output_type": "stream",
     "text": [
      "\n",
      "  0%|          | 0/777 [00:00<?, ?it/s]\u001b[A\n",
      "  2%|▏         | 17/777 [00:00<00:04, 161.18it/s]\u001b[A\n",
      "  4%|▍         | 34/777 [00:00<00:04, 162.56it/s]\u001b[A\n",
      "  7%|▋         | 51/777 [00:00<00:04, 164.41it/s]\u001b[A\n",
      "  9%|▉         | 68/777 [00:00<00:04, 165.32it/s]\u001b[A\n",
      " 11%|█         | 85/777 [00:00<00:04, 166.13it/s]\u001b[A\n",
      " 13%|█▎        | 102/777 [00:00<00:04, 167.08it/s]\u001b[A\n",
      " 15%|█▌        | 119/777 [00:00<00:03, 167.70it/s]\u001b[A\n",
      " 18%|█▊        | 136/777 [00:00<00:03, 165.77it/s]\u001b[A\n",
      " 20%|█▉        | 152/777 [00:00<00:03, 162.63it/s]\u001b[A\n",
      " 22%|██▏       | 168/777 [00:01<00:03, 158.51it/s]\u001b[A\n",
      " 24%|██▎       | 184/777 [00:01<00:03, 157.51it/s]\u001b[A\n",
      " 26%|██▌       | 200/777 [00:01<00:03, 158.01it/s]\u001b[A\n",
      " 28%|██▊       | 216/777 [00:01<00:03, 156.54it/s]\u001b[A\n",
      " 30%|██▉       | 232/777 [00:01<00:03, 155.66it/s]\u001b[A\n",
      " 32%|███▏      | 249/777 [00:01<00:03, 158.48it/s]\u001b[A\n",
      " 34%|███▍      | 266/777 [00:01<00:03, 160.90it/s]\u001b[A\n",
      " 36%|███▋      | 283/777 [00:01<00:03, 161.55it/s]\u001b[A\n",
      " 39%|███▊      | 301/777 [00:01<00:02, 164.52it/s]\u001b[A\n",
      " 41%|████      | 318/777 [00:01<00:02, 165.62it/s]\u001b[A\n",
      " 43%|████▎     | 335/777 [00:02<00:02, 165.43it/s]\u001b[A\n",
      " 45%|████▌     | 352/777 [00:02<00:02, 164.60it/s]\u001b[A\n",
      " 47%|████▋     | 369/777 [00:02<00:02, 161.97it/s]\u001b[A\n",
      " 50%|████▉     | 387/777 [00:02<00:02, 164.83it/s]\u001b[A\n",
      " 52%|█████▏    | 405/777 [00:02<00:02, 167.24it/s]\u001b[A\n",
      " 54%|█████▍    | 422/777 [00:02<00:02, 167.72it/s]\u001b[A\n",
      " 57%|█████▋    | 440/777 [00:02<00:01, 169.07it/s]\u001b[A\n",
      " 59%|█████▉    | 458/777 [00:02<00:01, 171.45it/s]\u001b[A\n",
      " 61%|██████▏   | 476/777 [00:02<00:01, 173.42it/s]\u001b[A\n",
      " 64%|██████▎   | 494/777 [00:02<00:01, 172.51it/s]\u001b[A\n",
      " 66%|██████▌   | 512/777 [00:03<00:01, 169.79it/s]\u001b[A\n",
      " 68%|██████▊   | 530/777 [00:03<00:01, 171.69it/s]\u001b[A\n",
      " 71%|███████   | 548/777 [00:03<00:01, 172.93it/s]\u001b[A\n",
      " 73%|███████▎  | 566/777 [00:03<00:01, 173.13it/s]\u001b[A\n",
      " 75%|███████▌  | 584/777 [00:03<00:01, 171.66it/s]\u001b[A\n",
      " 77%|███████▋  | 602/777 [00:03<00:01, 167.01it/s]\u001b[A\n",
      " 80%|███████▉  | 620/777 [00:03<00:00, 169.01it/s]\u001b[A\n",
      " 82%|████████▏ | 638/777 [00:03<00:00, 170.16it/s]\u001b[A\n",
      " 85%|████████▍ | 657/777 [00:03<00:00, 173.94it/s]\u001b[A\n",
      " 87%|████████▋ | 675/777 [00:04<00:00, 174.83it/s]\u001b[A\n",
      " 89%|████████▉ | 693/777 [00:04<00:00, 173.09it/s]\u001b[A\n",
      " 92%|█████████▏| 711/777 [00:04<00:00, 174.00it/s]\u001b[A\n",
      " 94%|█████████▍| 729/777 [00:04<00:00, 174.26it/s]\u001b[A\n",
      " 96%|█████████▌| 747/777 [00:04<00:00, 173.95it/s]\u001b[A\n",
      " 98%|█████████▊| 765/777 [00:04<00:00, 173.27it/s]\u001b[A\n",
      "100%|██████████| 777/777 [00:04<00:00, 167.13it/s]\u001b[A"
     ]
    }
   ],
   "source": [
    "df = pd.read_csv(\"data/cr/cleaned.csv\")\n",
    "df['content'] = df['content'].progress_apply(clean_tweet2)\n",
    "# df = df.drop_duplicates('content', keep='last')"
   ]
  },
  {
   "cell_type": "code",
   "execution_count": 13,
   "metadata": {},
   "outputs": [
    {
     "data": {
      "text/html": [
       "<div>\n",
       "<style scoped>\n",
       "    .dataframe tbody tr th:only-of-type {\n",
       "        vertical-align: middle;\n",
       "    }\n",
       "\n",
       "    .dataframe tbody tr th {\n",
       "        vertical-align: top;\n",
       "    }\n",
       "\n",
       "    .dataframe thead th {\n",
       "        text-align: right;\n",
       "    }\n",
       "</style>\n",
       "<table border=\"1\" class=\"dataframe\">\n",
       "  <thead>\n",
       "    <tr style=\"text-align: right;\">\n",
       "      <th></th>\n",
       "      <th>tweetid</th>\n",
       "      <th>content</th>\n",
       "      <th>polarity</th>\n",
       "      <th>augmented</th>\n",
       "    </tr>\n",
       "  </thead>\n",
       "  <tbody>\n",
       "    <tr>\n",
       "      <th>0</th>\n",
       "      <td>768225400254111744</td>\n",
       "      <td>totalmente puntual</td>\n",
       "      <td>NONE</td>\n",
       "      <td>0</td>\n",
       "    </tr>\n",
       "    <tr>\n",
       "      <th>1</th>\n",
       "      <td>770077064833671168</td>\n",
       "      <td>hola sandra habia desear feliz dia madre tarda...</td>\n",
       "      <td>P</td>\n",
       "      <td>0</td>\n",
       "    </tr>\n",
       "    <tr>\n",
       "      <th>2</th>\n",
       "      <td>771207534342320128</td>\n",
       "      <td>si andar hacer mejor quedar calladita jaja asi...</td>\n",
       "      <td>N</td>\n",
       "      <td>0</td>\n",
       "    </tr>\n",
       "    <tr>\n",
       "      <th>3</th>\n",
       "      <td>771900763987513345</td>\n",
       "      <td>pereza querer chocar banano</td>\n",
       "      <td>N</td>\n",
       "      <td>0</td>\n",
       "    </tr>\n",
       "    <tr>\n",
       "      <th>4</th>\n",
       "      <td>772550560998301697</td>\n",
       "      <td>bueno mayor cuánto campar tú sos cartaguito ca...</td>\n",
       "      <td>N</td>\n",
       "      <td>0</td>\n",
       "    </tr>\n",
       "  </tbody>\n",
       "</table>\n",
       "</div>"
      ],
      "text/plain": [
       "              tweetid                                            content  \\\n",
       "0  768225400254111744                                 totalmente puntual   \n",
       "1  770077064833671168  hola sandra habia desear feliz dia madre tarda...   \n",
       "2  771207534342320128  si andar hacer mejor quedar calladita jaja asi...   \n",
       "3  771900763987513345                        pereza querer chocar banano   \n",
       "4  772550560998301697  bueno mayor cuánto campar tú sos cartaguito ca...   \n",
       "\n",
       "  polarity  augmented  \n",
       "0     NONE          0  \n",
       "1        P          0  \n",
       "2        N          0  \n",
       "3        N          0  \n",
       "4        N          0  "
      ]
     },
     "execution_count": 13,
     "metadata": {},
     "output_type": "execute_result"
    }
   ],
   "source": [
    "df.head()"
   ]
  },
  {
   "cell_type": "code",
   "execution_count": 14,
   "metadata": {},
   "outputs": [
    {
     "data": {
      "text/html": [
       "<div>\n",
       "<style scoped>\n",
       "    .dataframe tbody tr th:only-of-type {\n",
       "        vertical-align: middle;\n",
       "    }\n",
       "\n",
       "    .dataframe tbody tr th {\n",
       "        vertical-align: top;\n",
       "    }\n",
       "\n",
       "    .dataframe thead th {\n",
       "        text-align: right;\n",
       "    }\n",
       "</style>\n",
       "<table border=\"1\" class=\"dataframe\">\n",
       "  <thead>\n",
       "    <tr style=\"text-align: right;\">\n",
       "      <th></th>\n",
       "      <th>tweetid</th>\n",
       "      <th>content</th>\n",
       "      <th>polarity</th>\n",
       "      <th>augmented</th>\n",
       "    </tr>\n",
       "  </thead>\n",
       "  <tbody>\n",
       "    <tr>\n",
       "      <th>2325</th>\n",
       "      <td>817864316372348928</td>\n",
       "      <td>No encontrar ninguno bueno seriar ninguno</td>\n",
       "      <td>N</td>\n",
       "      <td>1</td>\n",
       "    </tr>\n",
       "    <tr>\n",
       "      <th>2326</th>\n",
       "      <td>817864316372348928</td>\n",
       "      <td>No encontrar ninguno bueno seriar ninguno .</td>\n",
       "      <td>N</td>\n",
       "      <td>1</td>\n",
       "    </tr>\n",
       "    <tr>\n",
       "      <th>2327</th>\n",
       "      <td>817069708927266816</td>\n",
       "      <td>suerte alfa feliz año</td>\n",
       "      <td>P</td>\n",
       "      <td>1</td>\n",
       "    </tr>\n",
       "    <tr>\n",
       "      <th>2328</th>\n",
       "      <td>817069708927266816</td>\n",
       "      <td>suerte alfa feliz año nuevo</td>\n",
       "      <td>P</td>\n",
       "      <td>1</td>\n",
       "    </tr>\n",
       "    <tr>\n",
       "      <th>2330</th>\n",
       "      <td>817032173689696257</td>\n",
       "      <td>si entendi tweet anterior</td>\n",
       "      <td>NONE</td>\n",
       "      <td>1</td>\n",
       "    </tr>\n",
       "  </tbody>\n",
       "</table>\n",
       "</div>"
      ],
      "text/plain": [
       "                 tweetid                                      content  \\\n",
       "2325  817864316372348928    No encontrar ninguno bueno seriar ninguno   \n",
       "2326  817864316372348928  No encontrar ninguno bueno seriar ninguno .   \n",
       "2327  817069708927266816                        suerte alfa feliz año   \n",
       "2328  817069708927266816                  suerte alfa feliz año nuevo   \n",
       "2330  817032173689696257                    si entendi tweet anterior   \n",
       "\n",
       "     polarity  augmented  \n",
       "2325        N          1  \n",
       "2326        N          1  \n",
       "2327        P          1  \n",
       "2328        P          1  \n",
       "2330     NONE          1  "
      ]
     },
     "execution_count": 14,
     "metadata": {},
     "output_type": "execute_result"
    }
   ],
   "source": [
    "df.tail()"
   ]
  },
  {
   "cell_type": "code",
   "execution_count": null,
   "metadata": {},
   "outputs": [],
   "source": [
    "df.info()"
   ]
  },
  {
   "cell_type": "code",
   "execution_count": 15,
   "metadata": {},
   "outputs": [
    {
     "data": {
      "text/plain": [
       "<matplotlib.axes._subplots.AxesSubplot at 0x7fa675caa128>"
      ]
     },
     "execution_count": 15,
     "metadata": {},
     "output_type": "execute_result"
    },
    {
     "data": {
      "image/png": "[encoded data removed]",
      "text/plain": [
       "<Figure size 432x288 with 1 Axes>"
      ]
     },
     "metadata": {
      "needs_background": "light"
     },
     "output_type": "display_data"
    }
   ],
   "source": [
    "polarity_counts = Counter(df.polarity.values)\n",
    "plotdf = pd.DataFrame.from_dict(polarity_counts, orient='index')\n",
    "plotdf.plot(kind='bar')"
   ]
  },
  {
   "cell_type": "markdown",
   "metadata": {},
   "source": [
    "## Classifier"
   ]
  },
  {
   "cell_type": "markdown",
   "metadata": {},
   "source": [
    "### Turn tweets into features"
   ]
  },
  {
   "cell_type": "code",
   "execution_count": 157,
   "metadata": {},
   "outputs": [],
   "source": [
    "all_words = nltk.FreqDist([word for tweet in df.content for word in nltk.word_tokenize(tweet)])\n",
    "word_features = list(all_words) # [_document-classify-all-words]\n",
    "\n",
    "def document_features(document): # [_document-classify-extractor]\n",
    "    document_words = set(nltk.word_tokenize(document)) # [_document-classify-set]\n",
    "    features = {}\n",
    "    for word in word_features:\n",
    "        features['contains({})'.format(word)] = (word in document_words)\n",
    "        \n",
    "    text = Text(document)\n",
    "    text.language = 'es'\n",
    "    features['positive'] = sum([1 for w in text.words if w.polarity > 0])\n",
    "    features['neutral'] = sum([1 for w in text.words if w.polarity == 0])\n",
    "    features['negative'] = sum([1 for w in text.words if w.polarity < 0])\n",
    "    \n",
    "    return features\n",
    "featuresets = [(document_features(d), c) for (d,c) in zip(df.content, df.polarity)]"
   ]
  },
  {
   "cell_type": "code",
   "execution_count": 164,
   "metadata": {},
   "outputs": [
    {
     "name": "stdout",
     "output_type": "stream",
     "text": [
      "Accuracy: 0.5071761571761572\n"
     ]
    }
   ],
   "source": [
    "n = 10\n",
    "kf = KFold(n_splits=n, shuffle=True)\n",
    "total = 0\n",
    "for train, test in kf.split(featuresets):\n",
    "    classifier = SklearnClassifier(LogisticRegression()).train(np.array(featuresets)[train])\n",
    "    total += nltk.classify.accuracy(classifier, (np.array(featuresets)[test]))\n",
    "print(\"Accuracy:\", total / n)"
   ]
  },
  {
   "cell_type": "code",
   "execution_count": 162,
   "metadata": {},
   "outputs": [],
   "source": [
    "classifier = SklearnClassifier(LogisticRegression()).train(featuresets)"
   ]
  },
  {
   "cell_type": "code",
   "execution_count": 163,
   "metadata": {},
   "outputs": [
    {
     "data": {
      "text/plain": [
       "0.5461538461538461"
      ]
     },
     "execution_count": 163,
     "metadata": {},
     "output_type": "execute_result"
    }
   ],
   "source": [
    "df_test = pd.read_csv(\"data/cr/test_cleaned.csv\")\n",
    "featuresets_test = [(document_features(d), c) for (d,c) in zip(df_test.content, df_test.polarity)]\n",
    "nltk.classify.accuracy(classifier, featuresets_test)"
   ]
  },
  {
   "cell_type": "code",
   "execution_count": 103,
   "metadata": {},
   "outputs": [
    {
     "ename": "AttributeError",
     "evalue": "'SklearnClassifier' object has no attribute 'show_most_informative_features'",
     "output_type": "error",
     "traceback": [
      "\u001b[0;31m---------------------------------------------------------------------------\u001b[0m",
      "\u001b[0;31mAttributeError\u001b[0m                            Traceback (most recent call last)",
      "\u001b[0;32m<ipython-input-103-e5bd76b6a092>\u001b[0m in \u001b[0;36m<module>\u001b[0;34m\u001b[0m\n\u001b[0;32m----> 1\u001b[0;31m \u001b[0mclassifier\u001b[0m\u001b[0;34m.\u001b[0m\u001b[0mshow_most_informative_features\u001b[0m\u001b[0;34m(\u001b[0m\u001b[0;36m100\u001b[0m\u001b[0;34m)\u001b[0m\u001b[0;34m\u001b[0m\u001b[0;34m\u001b[0m\u001b[0m\n\u001b[0m",
      "\u001b[0;31mAttributeError\u001b[0m: 'SklearnClassifier' object has no attribute 'show_most_informative_features'"
     ]
    }
   ],
   "source": [
    "classifier.show_most_informative_features(100)"
   ]
  },
  {
   "cell_type": "code",
   "execution_count": null,
   "metadata": {},
   "outputs": [],
   "source": []
  }
 ],
 "metadata": {
  "kernelspec": {
   "display_name": "TASS-2019",
   "language": "python",
   "name": "tass-2019"
  },
  "language_info": {
   "codemirror_mode": {
    "name": "ipython",
    "version": 3
   },
   "file_extension": ".py",
   "mimetype": "text/x-python",
   "name": "python",
   "nbconvert_exporter": "python",
   "pygments_lexer": "ipython3",
   "version": "3.7.3"
  },
  "toc": {
   "base_numbering": 1,
   "nav_menu": {},
   "number_sections": true,
   "sideBar": true,
   "skip_h1_title": false,
   "title_cell": "Table of Contents",
   "title_sidebar": "Contents",
   "toc_cell": false,
   "toc_position": {
    "height": "calc(100% - 180px)",
    "left": "10px",
    "top": "150px",
    "width": "384px"
   },
   "toc_section_display": true,
   "toc_window_display": true
  }
 },
 "nbformat": 4,
 "nbformat_minor": 2
}
